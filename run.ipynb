{
 "cells": [
  {
   "cell_type": "markdown",
   "metadata": {},
   "source": [
    "# Required Packages:"
   ]
  },
  {
   "cell_type": "code",
   "execution_count": 1,
   "metadata": {},
   "outputs": [],
   "source": [
    "import pandas as pd\n",
    "import numpy as np\n",
    "import matplotlib.pyplot as plt\n",
    "import re\n",
    "import itertools\n",
    "import pickle"
   ]
  },
  {
   "cell_type": "code",
   "execution_count": 2,
   "metadata": {},
   "outputs": [],
   "source": [
    "import nltk\n",
    "from nltk.stem.porter import PorterStemmer\n",
    "from nltk.corpus import stopwords\n",
    "from nltk.tokenize import word_tokenize"
   ]
  },
  {
   "cell_type": "code",
   "execution_count": 3,
   "metadata": {},
   "outputs": [],
   "source": [
    "from sklearn.feature_extraction.text import TfidfVectorizer\n",
    "from sklearn.model_selection import train_test_split\n",
    "from sklearn.linear_model import PassiveAggressiveClassifier\n",
    "from sklearn.metrics import precision_score, recall_score, f1_score, roc_auc_score, confusion_matrix, accuracy_score\n",
    "from sklearn.decomposition import LatentDirichletAllocation\n",
    "from gensim.models import Word2Vec"
   ]
  },
  {
   "cell_type": "markdown",
   "metadata": {},
   "source": [
    "# Load TRUE dataset:"
   ]
  },
  {
   "cell_type": "code",
   "execution_count": 4,
   "metadata": {},
   "outputs": [
    {
     "data": {
      "text/plain": [
       "(21417, 4)"
      ]
     },
     "execution_count": 4,
     "metadata": {},
     "output_type": "execute_result"
    }
   ],
   "source": [
    "true = pd.read_csv('True.csv')\n",
    "true.shape"
   ]
  },
  {
   "cell_type": "markdown",
   "metadata": {},
   "source": [
    "# Load FAKE dataset:"
   ]
  },
  {
   "cell_type": "code",
   "execution_count": 5,
   "metadata": {},
   "outputs": [
    {
     "name": "stderr",
     "output_type": "stream",
     "text": [
      "C:\\Users\\capta\\AppData\\Local\\Temp\\ipykernel_15004\\473971886.py:1: DtypeWarning: Columns (4,5,6,7,8,9,10,11,12,13,14,15,16,17,18,19,20,21,22,23,24,25,26,27,28,29,30,31,32,33,34,35,36,37,38,39,40,41,42,43,44,45,46,47,48,49,50,51,52,53,54,55,56,57,58,59,60,61,62,63,64,65,66,67,68,69,70,71,72,73,74,75,76,77,78,79,80,81,82,83,84,85,86,87,88,89,90,91,92,93,94,95,96,97,98,99,100,101,102,103,104,105,106,107,108,109,110,111,112,113,114,115,116,117,118,119,120,121,122,123,124,125,126,127,128,129,130,131,132,133,134,135,136,137,138,139,140,141,142,143,144,145,146,147,148,149,150,151,152,153,154,155,156,157,158,159,160,161,162,163,164,165,166,167,168,169,170,171) have mixed types. Specify dtype option on import or set low_memory=False.\n",
      "  fake = pd.read_csv('Fake.csv')\n"
     ]
    },
    {
     "data": {
      "text/plain": [
       "(23502, 172)"
      ]
     },
     "execution_count": 5,
     "metadata": {},
     "output_type": "execute_result"
    }
   ],
   "source": [
    "fake = pd.read_csv('Fake.csv')\n",
    "fake.shape"
   ]
  },
  {
   "cell_type": "code",
   "execution_count": 6,
   "metadata": {},
   "outputs": [],
   "source": [
    "# Add labels\n",
    "true['label'] = 1\n",
    "fake['label'] = 0"
   ]
  },
  {
   "cell_type": "code",
   "execution_count": 7,
   "metadata": {},
   "outputs": [
    {
     "data": {
      "text/plain": [
       "(10002, 173)"
      ]
     },
     "execution_count": 7,
     "metadata": {},
     "output_type": "execute_result"
    }
   ],
   "source": [
    "# Concatenate dataframes\n",
    "frames = [true.loc[:5000][:], fake.loc[:5000][:]]\n",
    "df = pd.concat(frames)\n",
    "df.shape"
   ]
  },
  {
   "cell_type": "markdown",
   "metadata": {},
   "source": [
    "# Data Preprocessing:"
   ]
  },
  {
   "cell_type": "code",
   "execution_count": 8,
   "metadata": {},
   "outputs": [],
   "source": [
    "X = df.drop('label', axis=1)\n",
    "y = df['label']"
   ]
  },
  {
   "cell_type": "code",
   "execution_count": 9,
   "metadata": {},
   "outputs": [
    {
     "data": {
      "text/plain": [
       "(10002, 173)"
      ]
     },
     "execution_count": 9,
     "metadata": {},
     "output_type": "execute_result"
    }
   ],
   "source": [
    "df.shape"
   ]
  },
  {
   "cell_type": "code",
   "execution_count": 10,
   "metadata": {},
   "outputs": [
    {
     "data": {
      "text/html": [
       "<div>\n",
       "<style scoped>\n",
       "    .dataframe tbody tr th:only-of-type {\n",
       "        vertical-align: middle;\n",
       "    }\n",
       "\n",
       "    .dataframe tbody tr th {\n",
       "        vertical-align: top;\n",
       "    }\n",
       "\n",
       "    .dataframe thead th {\n",
       "        text-align: right;\n",
       "    }\n",
       "</style>\n",
       "<table border=\"1\" class=\"dataframe\">\n",
       "  <thead>\n",
       "    <tr style=\"text-align: right;\">\n",
       "      <th></th>\n",
       "      <th>title</th>\n",
       "      <th>text</th>\n",
       "      <th>subject</th>\n",
       "      <th>date</th>\n",
       "      <th>label</th>\n",
       "      <th>Unnamed: 4</th>\n",
       "      <th>Unnamed: 5</th>\n",
       "      <th>Unnamed: 6</th>\n",
       "      <th>Unnamed: 7</th>\n",
       "      <th>Unnamed: 8</th>\n",
       "      <th>...</th>\n",
       "      <th>Unnamed: 162</th>\n",
       "      <th>Unnamed: 163</th>\n",
       "      <th>Unnamed: 164</th>\n",
       "      <th>Unnamed: 165</th>\n",
       "      <th>Unnamed: 166</th>\n",
       "      <th>Unnamed: 167</th>\n",
       "      <th>Unnamed: 168</th>\n",
       "      <th>Unnamed: 169</th>\n",
       "      <th>Unnamed: 170</th>\n",
       "      <th>Unnamed: 171</th>\n",
       "    </tr>\n",
       "  </thead>\n",
       "  <tbody>\n",
       "    <tr>\n",
       "      <th>0</th>\n",
       "      <td>As U.S. budget fight looms, Republicans flip t...</td>\n",
       "      <td>WASHINGTON (Reuters) - The head of a conservat...</td>\n",
       "      <td>politicsNews</td>\n",
       "      <td>December 31, 2017</td>\n",
       "      <td>1</td>\n",
       "      <td>NaN</td>\n",
       "      <td>NaN</td>\n",
       "      <td>NaN</td>\n",
       "      <td>NaN</td>\n",
       "      <td>NaN</td>\n",
       "      <td>...</td>\n",
       "      <td>NaN</td>\n",
       "      <td>NaN</td>\n",
       "      <td>NaN</td>\n",
       "      <td>NaN</td>\n",
       "      <td>NaN</td>\n",
       "      <td>NaN</td>\n",
       "      <td>NaN</td>\n",
       "      <td>NaN</td>\n",
       "      <td>NaN</td>\n",
       "      <td>NaN</td>\n",
       "    </tr>\n",
       "    <tr>\n",
       "      <th>1</th>\n",
       "      <td>U.S. military to accept transgender recruits o...</td>\n",
       "      <td>WASHINGTON (Reuters) - Transgender people will...</td>\n",
       "      <td>politicsNews</td>\n",
       "      <td>December 29, 2017</td>\n",
       "      <td>1</td>\n",
       "      <td>NaN</td>\n",
       "      <td>NaN</td>\n",
       "      <td>NaN</td>\n",
       "      <td>NaN</td>\n",
       "      <td>NaN</td>\n",
       "      <td>...</td>\n",
       "      <td>NaN</td>\n",
       "      <td>NaN</td>\n",
       "      <td>NaN</td>\n",
       "      <td>NaN</td>\n",
       "      <td>NaN</td>\n",
       "      <td>NaN</td>\n",
       "      <td>NaN</td>\n",
       "      <td>NaN</td>\n",
       "      <td>NaN</td>\n",
       "      <td>NaN</td>\n",
       "    </tr>\n",
       "  </tbody>\n",
       "</table>\n",
       "<p>2 rows × 173 columns</p>\n",
       "</div>"
      ],
      "text/plain": [
       "                                               title  \\\n",
       "0  As U.S. budget fight looms, Republicans flip t...   \n",
       "1  U.S. military to accept transgender recruits o...   \n",
       "\n",
       "                                                text       subject  \\\n",
       "0  WASHINGTON (Reuters) - The head of a conservat...  politicsNews   \n",
       "1  WASHINGTON (Reuters) - Transgender people will...  politicsNews   \n",
       "\n",
       "                 date  label Unnamed: 4 Unnamed: 5 Unnamed: 6 Unnamed: 7  \\\n",
       "0  December 31, 2017       1        NaN        NaN        NaN        NaN   \n",
       "1  December 29, 2017       1        NaN        NaN        NaN        NaN   \n",
       "\n",
       "  Unnamed: 8  ... Unnamed: 162 Unnamed: 163 Unnamed: 164 Unnamed: 165  \\\n",
       "0        NaN  ...          NaN          NaN          NaN          NaN   \n",
       "1        NaN  ...          NaN          NaN          NaN          NaN   \n",
       "\n",
       "  Unnamed: 166 Unnamed: 167 Unnamed: 168 Unnamed: 169 Unnamed: 170  \\\n",
       "0          NaN          NaN          NaN          NaN          NaN   \n",
       "1          NaN          NaN          NaN          NaN          NaN   \n",
       "\n",
       "  Unnamed: 171  \n",
       "0          NaN  \n",
       "1          NaN  \n",
       "\n",
       "[2 rows x 173 columns]"
      ]
     },
     "execution_count": 10,
     "metadata": {},
     "output_type": "execute_result"
    }
   ],
   "source": [
    "df.head(2)"
   ]
  },
  {
   "cell_type": "code",
   "execution_count": 11,
   "metadata": {},
   "outputs": [
    {
     "data": {
      "text/html": [
       "<div>\n",
       "<style scoped>\n",
       "    .dataframe tbody tr th:only-of-type {\n",
       "        vertical-align: middle;\n",
       "    }\n",
       "\n",
       "    .dataframe tbody tr th {\n",
       "        vertical-align: top;\n",
       "    }\n",
       "\n",
       "    .dataframe thead th {\n",
       "        text-align: right;\n",
       "    }\n",
       "</style>\n",
       "<table border=\"1\" class=\"dataframe\">\n",
       "  <thead>\n",
       "    <tr style=\"text-align: right;\">\n",
       "      <th></th>\n",
       "      <th>title</th>\n",
       "      <th>text</th>\n",
       "      <th>subject</th>\n",
       "      <th>date</th>\n",
       "      <th>label</th>\n",
       "      <th>Unnamed: 4</th>\n",
       "      <th>Unnamed: 5</th>\n",
       "      <th>Unnamed: 6</th>\n",
       "      <th>Unnamed: 7</th>\n",
       "      <th>Unnamed: 8</th>\n",
       "      <th>...</th>\n",
       "      <th>Unnamed: 162</th>\n",
       "      <th>Unnamed: 163</th>\n",
       "      <th>Unnamed: 164</th>\n",
       "      <th>Unnamed: 165</th>\n",
       "      <th>Unnamed: 166</th>\n",
       "      <th>Unnamed: 167</th>\n",
       "      <th>Unnamed: 168</th>\n",
       "      <th>Unnamed: 169</th>\n",
       "      <th>Unnamed: 170</th>\n",
       "      <th>Unnamed: 171</th>\n",
       "    </tr>\n",
       "  </thead>\n",
       "  <tbody>\n",
       "    <tr>\n",
       "      <th>4999</th>\n",
       "      <td>CNN Panelist LAUGHS In Corey Lewandowski’s Fa...</td>\n",
       "      <td>As Donald Trump s campaign continues to sink d...</td>\n",
       "      <td>News</td>\n",
       "      <td>August 18, 2016</td>\n",
       "      <td>0</td>\n",
       "      <td>NaN</td>\n",
       "      <td>NaN</td>\n",
       "      <td>NaN</td>\n",
       "      <td>NaN</td>\n",
       "      <td>NaN</td>\n",
       "      <td>...</td>\n",
       "      <td>NaN</td>\n",
       "      <td>NaN</td>\n",
       "      <td>NaN</td>\n",
       "      <td>NaN</td>\n",
       "      <td>NaN</td>\n",
       "      <td>NaN</td>\n",
       "      <td>NaN</td>\n",
       "      <td>NaN</td>\n",
       "      <td>NaN</td>\n",
       "      <td>NaN</td>\n",
       "    </tr>\n",
       "    <tr>\n",
       "      <th>5000</th>\n",
       "      <td>Trump Supporter Who Wants To Shoot Black Kids...</td>\n",
       "      <td>Hi folks, John Harper here, at least if you as...</td>\n",
       "      <td>News</td>\n",
       "      <td>August 18, 2016</td>\n",
       "      <td>0</td>\n",
       "      <td>NaN</td>\n",
       "      <td>NaN</td>\n",
       "      <td>NaN</td>\n",
       "      <td>NaN</td>\n",
       "      <td>NaN</td>\n",
       "      <td>...</td>\n",
       "      <td>NaN</td>\n",
       "      <td>NaN</td>\n",
       "      <td>NaN</td>\n",
       "      <td>NaN</td>\n",
       "      <td>NaN</td>\n",
       "      <td>NaN</td>\n",
       "      <td>NaN</td>\n",
       "      <td>NaN</td>\n",
       "      <td>NaN</td>\n",
       "      <td>NaN</td>\n",
       "    </tr>\n",
       "  </tbody>\n",
       "</table>\n",
       "<p>2 rows × 173 columns</p>\n",
       "</div>"
      ],
      "text/plain": [
       "                                                  title  \\\n",
       "4999   CNN Panelist LAUGHS In Corey Lewandowski’s Fa...   \n",
       "5000   Trump Supporter Who Wants To Shoot Black Kids...   \n",
       "\n",
       "                                                   text subject  \\\n",
       "4999  As Donald Trump s campaign continues to sink d...    News   \n",
       "5000  Hi folks, John Harper here, at least if you as...    News   \n",
       "\n",
       "                 date  label Unnamed: 4 Unnamed: 5 Unnamed: 6 Unnamed: 7  \\\n",
       "4999  August 18, 2016      0        NaN        NaN        NaN        NaN   \n",
       "5000  August 18, 2016      0        NaN        NaN        NaN        NaN   \n",
       "\n",
       "     Unnamed: 8  ... Unnamed: 162 Unnamed: 163 Unnamed: 164 Unnamed: 165  \\\n",
       "4999        NaN  ...          NaN          NaN          NaN          NaN   \n",
       "5000        NaN  ...          NaN          NaN          NaN          NaN   \n",
       "\n",
       "     Unnamed: 166 Unnamed: 167 Unnamed: 168 Unnamed: 169 Unnamed: 170  \\\n",
       "4999          NaN          NaN          NaN          NaN          NaN   \n",
       "5000          NaN          NaN          NaN          NaN          NaN   \n",
       "\n",
       "     Unnamed: 171  \n",
       "4999          NaN  \n",
       "5000          NaN  \n",
       "\n",
       "[2 rows x 173 columns]"
      ]
     },
     "execution_count": 11,
     "metadata": {},
     "output_type": "execute_result"
    }
   ],
   "source": [
    "df.tail(2)"
   ]
  },
  {
   "cell_type": "code",
   "execution_count": 12,
   "metadata": {},
   "outputs": [],
   "source": [
    "# Create a corpus of text\n",
    "corpus = df['text'].values"
   ]
  },
  {
   "cell_type": "code",
   "execution_count": 13,
   "metadata": {},
   "outputs": [],
   "source": [
    "# Define a function to clean the text\n",
    "def clean_text(text):\n",
    "    # Remove punctuation and numbers\n",
    "    text = re.sub('[^a-zA-Z]', ' ', text)\n",
    "\n",
    "    # Convert to lowercase\n",
    "    text = text.lower()\n",
    "\n",
    "    # Remove stopwords and stem the words\n",
    "    ps = PorterStemmer()\n",
    "    text = [ps.stem(word) for word in text.split() if word not in stopwords.words('english')]\n",
    "\n",
    "    # Join the words back into a string\n",
    "    text = ' '.join(text)\n",
    "\n",
    "    return text.split()"
   ]
  },
  {
   "cell_type": "code",
   "execution_count": 14,
   "metadata": {},
   "outputs": [],
   "source": [
    "# Apply the clean_text function to the corpus\n",
    "corpus = [clean_text(doc) for doc in corpus]"
   ]
  },
  {
   "cell_type": "code",
   "execution_count": 15,
   "metadata": {},
   "outputs": [
    {
     "name": "stdout",
     "output_type": "stream",
     "text": [
      "Document 1: ['washington', 'reuter', 'head', 'conserv', 'republican', 'faction', 'u', 'congress', 'vote', 'month', 'huge', 'expans', 'nation', 'debt', 'pay', 'tax', 'cut', 'call', 'fiscal', 'conserv', 'sunday', 'urg', 'budget', 'restraint', 'keep', 'sharp', 'pivot', 'way', 'among', 'republican', 'u', 'repres', 'mark', 'meadow', 'speak', 'cb', 'face', 'nation', 'drew', 'hard', 'line', 'feder', 'spend', 'lawmak', 'brace', 'battl', 'januari', 'return', 'holiday', 'wednesday', 'lawmak', 'begin', 'tri', 'pass', 'feder', 'budget', 'fight', 'like', 'link', 'issu', 'immigr', 'polici', 'even', 'novemb', 'congression', 'elect', 'campaign', 'approach', 'republican', 'seek', 'keep', 'control', 'congress', 'presid', 'donald', 'trump', 'republican', 'want', 'big', 'budget', 'increas', 'militari', 'spend', 'democrat', 'also', 'want', 'proport', 'increas', 'non', 'defens', 'discretionari', 'spend', 'program', 'support', 'educ', 'scientif', 'research', 'infrastructur', 'public', 'health', 'environment', 'protect', 'trump', 'administr', 'alreadi', 'will', 'say', 'go', 'increas', 'non', 'defens', 'discretionari', 'spend', 'percent', 'meadow', 'chairman', 'small', 'influenti', 'hous', 'freedom', 'caucu', 'said', 'program', 'democrat', 'say', 'enough', 'need', 'give', 'govern', 'pay', 'rais', 'percent', 'fiscal', 'conserv', 'see', 'rational', 'eventu', 'run', 'peopl', 'money', 'said', 'meadow', 'among', 'republican', 'vote', 'late', 'decemb', 'parti', 'debt', 'financ', 'tax', 'overhaul', 'expect', 'balloon', 'feder', 'budget', 'deficit', 'add', 'trillion', 'year', 'trillion', 'nation', 'debt', 'interest', 'hear', 'mark', 'talk', 'fiscal', 'respons', 'democrat', 'u', 'repres', 'joseph', 'crowley', 'said', 'cb', 'crowley', 'said', 'republican', 'tax', 'bill', 'would', 'requir', 'unit', 'state', 'borrow', 'trillion', 'paid', 'futur', 'gener', 'financ', 'tax', 'cut', 'corpor', 'rich', 'one', 'least', 'fiscal', 'respons', 'bill', 'ever', 'seen', 'pass', 'histori', 'hous', 'repres', 'think', 'go', 'pay', 'mani', 'mani', 'year', 'come', 'crowley', 'said', 'republican', 'insist', 'tax', 'packag', 'biggest', 'u', 'tax', 'overhaul', 'year', 'boost', 'economi', 'job', 'growth', 'hous', 'speaker', 'paul', 'ryan', 'also', 'support', 'tax', 'bill', 'recent', 'went', 'meadow', 'make', 'clear', 'radio', 'interview', 'welfar', 'entitl', 'reform', 'parti', 'often', 'call', 'would', 'top', 'republican', 'prioriti', 'republican', 'parlanc', 'entitl', 'program', 'mean', 'food', 'stamp', 'hous', 'assist', 'medicar', 'medicaid', 'health', 'insur', 'elderli', 'poor', 'disabl', 'well', 'program', 'creat', 'washington', 'assist', 'needi', 'democrat', 'seiz', 'ryan', 'earli', 'decemb', 'remark', 'say', 'show', 'republican', 'would', 'tri', 'pay', 'tax', 'overhaul', 'seek', 'spend', 'cut', 'social', 'program', 'goal', 'hous', 'republican', 'may', 'take', 'back', 'seat', 'senat', 'vote', 'democrat', 'need', 'approv', 'budget', 'prevent', 'govern', 'shutdown', 'democrat', 'use', 'leverag', 'senat', 'republican', 'narrowli', 'control', 'defend', 'discretionari', 'non', 'defens', 'program', 'social', 'spend', 'tackl', 'issu', 'dreamer', 'peopl', 'brought', 'illeg', 'countri', 'children', 'trump', 'septemb', 'put', 'march', 'expir', 'date', 'defer', 'action', 'childhood', 'arriv', 'daca', 'program', 'protect', 'young', 'immigr', 'deport', 'provid', 'work', 'permit', 'presid', 'said', 'recent', 'twitter', 'messag', 'want', 'fund', 'propos', 'mexican', 'border', 'wall', 'immigr', 'law', 'chang', 'exchang', 'agre', 'help', 'dreamer', 'repres', 'debbi', 'dingel', 'told', 'cb', 'favor', 'link', 'issu', 'polici', 'object', 'wall', 'fund', 'need', 'daca', 'clean', 'said', 'wednesday', 'trump', 'aid', 'meet', 'congression', 'leader', 'discuss', 'issu', 'follow', 'weekend', 'strategi', 'session', 'trump', 'republican', 'leader', 'jan', 'white', 'hous', 'said', 'trump', 'also', 'schedul', 'meet', 'sunday', 'florida', 'republican', 'governor', 'rick', 'scott', 'want', 'emerg', 'aid', 'hous', 'pass', 'billion', 'aid', 'packag', 'hurrican', 'florida', 'texa', 'puerto', 'rico', 'wildfir', 'california', 'packag', 'far', 'exceed', 'billion', 'request', 'trump', 'administr', 'senat', 'yet', 'vote', 'aid']\n",
      "Document 2: ['washington', 'reuter', 'transgend', 'peopl', 'allow', 'first', 'time', 'enlist', 'u', 'militari', 'start', 'monday', 'order', 'feder', 'court', 'pentagon', 'said', 'friday', 'presid', 'donald', 'trump', 'administr', 'decid', 'appeal', 'rule', 'block', 'transgend', 'ban', 'two', 'feder', 'appeal', 'court', 'one', 'washington', 'one', 'virginia', 'last', 'week', 'reject', 'administr', 'request', 'put', 'hold', 'order', 'lower', 'court', 'judg', 'requir', 'militari', 'begin', 'accept', 'transgend', 'recruit', 'jan', 'justic', 'depart', 'offici', 'said', 'administr', 'challeng', 'rule', 'depart', 'defens', 'announc', 'releas', 'independ', 'studi', 'issu', 'come', 'week', 'rather', 'litig', 'interim', 'appeal', 'occur', 'administr', 'decid', 'wait', 'dod', 'studi', 'continu', 'defend', 'presid', 'law', 'author', 'district', 'court', 'meantim', 'offici', 'said', 'speak', 'condit', 'anonym', 'septemb', 'pentagon', 'said', 'creat', 'panel', 'senior', 'offici', 'studi', 'implement', 'direct', 'trump', 'prohibit', 'transgend', 'individu', 'serv', 'defens', 'depart', 'feb', 'submit', 'plan', 'trump', 'lawyer', 'repres', 'current', 'serv', 'transgend', 'servic', 'member', 'aspir', 'recruit', 'said', 'expect', 'administr', 'appeal', 'rule', 'conserv', 'major', 'suprem', 'court', 'hope', 'would', 'happen', 'pentagon', 'spokeswoman', 'heather', 'babb', 'said', 'statement', 'mandat', 'court', 'order', 'depart', 'defens', 'prepar', 'begin', 'access', 'transgend', 'applic', 'militari', 'servic', 'jan', 'applic', 'must', 'meet', 'access', 'standard', 'jennif', 'levi', 'lawyer', 'gay', 'lesbian', 'transgend', 'advocaci', 'group', 'glad', 'call', 'decis', 'appeal', 'great', 'news', 'hope', 'mean', 'govern', 'come', 'see', 'way', 'justifi', 'ban', 'good', 'militari', 'countri', 'levi', 'said', 'glad', 'american', 'civil', 'liberti', 'union', 'repres', 'plaintiff', 'lawsuit', 'file', 'administr', 'move', 'appeal', 'hard', 'line', 'conserv', 'support', 'trump', 'announc', 'juli', 'would', 'prohibit', 'transgend', 'peopl', 'serv', 'militari', 'revers', 'democrat', 'presid', 'barack', 'obama', 'polici', 'accept', 'trump', 'said', 'twitter', 'time', 'militari', 'cannot', 'burden', 'tremend', 'medic', 'cost', 'disrupt', 'transgend', 'militari', 'would', 'entail', 'four', 'feder', 'judg', 'baltimor', 'washington', 'c', 'seattl', 'riversid', 'california', 'issu', 'rule', 'block', 'trump', 'ban', 'legal', 'challeng', 'republican', 'presid', 'polici', 'proceed', 'judg', 'said', 'ban', 'would', 'like', 'violat', 'right', 'u', 'constitut', 'equal', 'protect', 'law', 'pentagon', 'dec', 'issu', 'guidelin', 'recruit', 'personnel', 'order', 'enlist', 'transgend', 'applic', 'jan', 'memo', 'outlin', 'medic', 'requir', 'specifi', 'applic', 'sex', 'would', 'identifi', 'even', 'undergar', 'would', 'wear', 'trump', 'administr', 'previous', 'said', 'legal', 'paper', 'arm', 'forc', 'prepar', 'train', 'thousand', 'personnel', 'medic', 'standard', 'need', 'process', 'transgend', 'applic', 'might', 'accept', 'individu', 'medic', 'fit', 'servic', 'obama', 'administr', 'set', 'deadlin', 'juli', 'begin', 'accept', 'transgend', 'recruit', 'trump', 'defens', 'secretari', 'jame', 'matti', 'postpon', 'date', 'jan', 'presid', 'ban', 'put', 'indefinit', 'trump', 'taken', 'step', 'aim', 'roll', 'back', 'transgend', 'right', 'octob', 'administr', 'said', 'feder', 'law', 'ban', 'gender', 'base', 'workplac', 'discrimin', 'protect', 'transgend', 'employe', 'revers', 'anoth', 'obama', 'era', 'posit', 'februari', 'trump', 'rescind', 'guidanc', 'issu', 'obama', 'administr', 'say', 'public', 'school', 'allow', 'transgend', 'student', 'use', 'restroom', 'correspond', 'gender', 'ident']\n",
      "Document 3: ['washington', 'reuter', 'special', 'counsel', 'investig', 'link', 'russia', 'presid', 'trump', 'elect', 'campaign', 'continu', 'without', 'interfer', 'despit', 'call', 'trump', 'administr', 'alli', 'republican', 'lawmak', 'shut', 'promin', 'republican', 'senat', 'said', 'sunday', 'lindsey', 'graham', 'serv', 'senat', 'arm', 'forc', 'judiciari', 'committe', 'said', 'depart', 'justic', 'special', 'counsel', 'robert', 'mueller', 'need', 'carri', 'russia', 'investig', 'without', 'polit', 'interfer', 'investig', 'go', 'forward', 'investig', 'conduct', 'without', 'polit', 'influenc', 'graham', 'said', 'cb', 'face', 'nation', 'news', 'program', 'need', 'let', 'mr', 'mueller', 'job', 'think', 'right', 'guy', 'right', 'time', 'question', 'russia', 'may', 'interf', 'elect', 'trump', 'campaign', 'may', 'link', 'co', 'ordin', 'effort', 'loom', 'white', 'hous', 'sinc', 'trump', 'took', 'offic', 'januari', 'show', 'sign', 'reced', 'trump', 'prepar', 'second', 'year', 'power', 'despit', 'intensifi', 'rhetor', 'trump', 'alli', 'recent', 'week', 'accus', 'mueller', 'team', 'bia', 'republican', 'presid', 'trump', 'seem', 'undercut', 'support', 'interview', 'last', 'week', 'new', 'york', 'time', 'said', 'expect', 'mueller', 'go', 'fair', 'russia', 'role', 'elect', 'question', 'possibl', 'link', 'trump', 'campaign', 'focu', 'multipl', 'inquiri', 'washington', 'three', 'committe', 'senat', 'hous', 'repres', 'investig', 'well', 'mueller', 'whose', 'team', 'may', 'took', 'earlier', 'probe', 'launch', 'u', 'feder', 'bureau', 'investig', 'fbi', 'sever', 'member', 'trump', 'campaign', 'administr', 'convict', 'indict', 'investig', 'trump', 'alli', 'deni', 'collus', 'russia', 'campaign', 'kremlin', 'deni', 'meddl', 'elect', 'graham', 'said', 'still', 'want', 'examin', 'fbi', 'use', 'dossier', 'link', 'trump', 'russia', 'compil', 'former', 'british', 'spi', 'christoph', 'steel', 'prompt', 'trump', 'alli', 'republican', 'question', 'mueller', 'inquiri', 'saturday', 'new', 'york', 'time', 'report', 'dossier', 'trigger', 'earli', 'fbi', 'probe', 'tip', 'former', 'trump', 'campaign', 'foreign', 'polici', 'advis', 'georg', 'papadopoulo', 'australian', 'diplomat', 'russia', 'damag', 'inform', 'former', 'trump', 'rival', 'hillari', 'clinton', 'want', 'somebodi', 'look', 'way', 'depart', 'justic', 'use', 'dossier', 'bother', 'greatli', 'way', 'use', 'want', 'somebodi', 'look', 'graham', 'said', 'said', 'russia', 'investig', 'must', 'continu', 'matter', 'fact', 'would', 'hurt', 'us', 'ignor', 'said']\n",
      "Document 4: ['washington', 'reuter', 'trump', 'campaign', 'advis', 'georg', 'papadopoulo', 'told', 'australian', 'diplomat', 'may', 'russia', 'polit', 'dirt', 'democrat', 'presidenti', 'candid', 'hillari', 'clinton', 'new', 'york', 'time', 'report', 'saturday', 'convers', 'papadopoulo', 'diplomat', 'alexand', 'downer', 'london', 'drive', 'factor', 'behind', 'fbi', 'decis', 'open', 'counter', 'intellig', 'investig', 'moscow', 'contact', 'trump', 'campaign', 'time', 'report', 'two', 'month', 'meet', 'australian', 'offici', 'pass', 'inform', 'came', 'papadopoulo', 'american', 'counterpart', 'leak', 'democrat', 'email', 'began', 'appear', 'onlin', 'accord', 'newspap', 'cite', 'four', 'current', 'former', 'u', 'foreign', 'offici', 'besid', 'inform', 'australian', 'probe', 'feder', 'bureau', 'investig', 'also', 'propel', 'intellig', 'friendli', 'govern', 'includ', 'british', 'dutch', 'time', 'said', 'papadopoulo', 'chicago', 'base', 'intern', 'energi', 'lawyer', 'plead', 'guilti', 'oct', 'lie', 'fbi', 'agent', 'contact', 'peopl', 'claim', 'tie', 'top', 'russian', 'offici', 'first', 'crimin', 'charg', 'alleg', 'link', 'trump', 'campaign', 'russia', 'white', 'hous', 'play', 'former', 'aid', 'campaign', 'role', 'say', 'extrem', 'limit', 'action', 'took', 'would', 'new', 'york', 'time', 'howev', 'report', 'papadopoulo', 'help', 'set', 'meet', 'candid', 'donald', 'trump', 'egyptian', 'presid', 'abdel', 'fattah', 'al', 'sisi', 'edit', 'outlin', 'trump', 'first', 'major', 'foreign', 'polici', 'speech', 'april', 'feder', 'investig', 'led', 'special', 'counsel', 'robert', 'mueller', 'hung', 'trump', 'white', 'hous', 'sinc', 'took', 'offic', 'almost', 'year', 'ago', 'trump', 'alli', 'recent', 'accus', 'mueller', 'team', 'bias', 'republican', 'presid', 'lawyer', 'papadopoulo', 'immedi', 'respond', 'request', 'reuter', 'comment', 'mueller', 'offic', 'declin', 'comment', 'trump', 'white', 'hous', 'attorney', 'ty', 'cobb', 'declin', 'comment', 'new', 'york', 'time', 'report', 'respect', 'special', 'counsel', 'process', 'comment', 'matter', 'said', 'statement', 'mueller', 'charg', 'four', 'trump', 'associ', 'includ', 'papadopoulo', 'investig', 'russia', 'deni', 'interf', 'u', 'elect', 'trump', 'said', 'collus', 'campaign', 'moscow']\n",
      "Document 5: ['seattl', 'washington', 'reuter', 'presid', 'donald', 'trump', 'call', 'u', 'postal', 'servic', 'friday', 'charg', 'much', 'ship', 'packag', 'amazon', 'amzn', 'pick', 'anoth', 'fight', 'onlin', 'retail', 'giant', 'critic', 'past', 'unit', 'state', 'post', 'offic', 'lose', 'mani', 'billion', 'dollar', 'year', 'charg', 'amazon', 'other', 'littl', 'deliv', 'packag', 'make', 'amazon', 'richer', 'post', 'offic', 'dumber', 'poorer', 'charg', 'much', 'trump', 'wrote', 'twitter', 'presid', 'tweet', 'drew', 'fresh', 'attent', 'fragil', 'financ', 'postal', 'servic', 'time', 'ten', 'million', 'parcel', 'ship', 'countri', 'holiday', 'season', 'u', 'postal', 'servic', 'run', 'big', 'loss', 'independ', 'agenc', 'within', 'feder', 'govern', 'receiv', 'tax', 'dollar', 'oper', 'expens', 'accord', 'websit', 'packag', 'deliveri', 'becom', 'increasingli', 'import', 'part', 'busi', 'internet', 'led', 'sharp', 'declin', 'amount', 'first', 'class', 'letter', 'presid', 'determin', 'postal', 'rate', 'set', 'postal', 'regulatori', 'commiss', 'independ', 'govern', 'agenc', 'commission', 'select', 'presid', 'polit', 'parti', 'panel', 'rais', 'price', 'packag', 'almost', 'percent', 'novemb', 'amazon', 'found', 'jeff', 'bezo', 'remain', 'chief', 'execut', 'offic', 'retail', 'compani', 'richest', 'person', 'world', 'accord', 'bloomberg', 'news', 'bezo', 'also', 'own', 'washington', 'post', 'newspap', 'trump', 'repeatedli', 'rail', 'critic', 'news', 'media', 'tweet', 'past', 'year', 'trump', 'said', 'amazon', 'washington', 'post', 'fabric', 'stori', 'said', 'amazon', 'pay', 'sale', 'tax', 'true', 'hurt', 'retail', 'part', 'pattern', 'former', 'businessman', 'realiti', 'televis', 'host', 'period', 'turn', 'ire', 'big', 'american', 'compani', 'sinc', 'took', 'offic', 'januari', 'daniel', 'ive', 'research', 'analyst', 'gbh', 'insight', 'said', 'trump', 'comment', 'could', 'taken', 'warn', 'retail', 'giant', 'howev', 'said', 'concern', 'amazon', 'see', 'price', 'hike', 'futur', 'howev', 'risk', 'amazon', 'clearli', 'awar', 'build', 'distribut', 'system', 'aggress', 'said', 'amazon', 'shown', 'interest', 'past', 'shift', 'deliveri', 'servic', 'includ', 'test', 'drone', 'deliveri', 'compani', 'spent', 'billion', 'ship', 'percent', 'total', 'oper', 'expens', 'year', 'amazon', 'share', 'percent', 'earli', 'afternoon', 'overal', 'u', 'stock', 'price', 'slightli', 'friday', 'satish', 'jindel', 'presid', 'shipmatrix', 'inc', 'analyz', 'ship', 'data', 'disput', 'idea', 'postal', 'servic', 'charg', 'less', 'unit', 'parcel', 'servic', 'inc', 'up', 'n', 'fedex', 'corp', 'fdx', 'n', 'biggest', 'player', 'parcel', 'deliveri', 'busi', 'unit', 'state', 'mani', 'custom', 'get', 'lower', 'rate', 'up', 'fedex', 'would', 'get', 'post', 'offic', 'compar', 'servic', 'said', 'postal', 'servic', 'deliv', 'percent', 'amazon', 'packag', 'million', 'day', 'current', 'peak', 'year', 'end', 'holiday', 'ship', 'season', 'jindel', 'said', 'seattl', 'base', 'compani', 'post', 'offic', 'agreement', 'mail', 'carrier', 'take', 'amazon', 'packag', 'last', 'leg', 'journey', 'post', 'offic', 'custom', 'doorstep', 'amazon', 'carrier', 'up', 'percent', 'fedex', 'third', 'percent', 'accord', 'jindel', 'trump', 'comment', 'tap', 'debat', 'whether', 'postal', 'servic', 'price', 'kept', 'pace', 'rise', 'e', 'commerc', 'flood', 'mail', 'small', 'packag', 'privat', 'compani', 'like', 'up', 'long', 'claim', 'current', 'system', 'unfairli', 'undercut', 'busi', 'steve', 'gaut', 'spokesman', 'up', 'note', 'compani', 'valu', 'product', 'relationship', 'postal', 'servic', 'file', 'postal', 'regulatori', 'commiss', 'concern', 'postal', 'servic', 'method', 'cover', 'cost', 'repres', 'amazon', 'white', 'hous', 'u', 'postal', 'servic', 'fedex', 'declin', 'comment', 'immedi', 'avail', 'comment', 'trump', 'tweet', 'accord', 'annual', 'report', 'postal', 'servic', 'lost', 'billion', 'year', 'deficit', 'balloon', 'billion', 'postal', 'servic', 'revenu', 'first', 'class', 'mail', 'market', 'mail', 'period', 'flat', 'declin', 'revenu', 'packag', 'deliveri', 'percent', 'sinc', 'billion', 'fiscal', 'year', 'end', 'sept', 'also', 'lost', 'billion', 'revenu', 'temporari', 'surcharg', 'expir', 'april', 'accord', 'govern', 'account', 'offic', 'report', 'februari', 'servic', 'face', 'grow', 'personnel', 'expens', 'particularli', 'billion', 'unfund', 'pension', 'benefit', 'liabil', 'postal', 'servic', 'announc', 'plan', 'cut', 'cost', 'law', 'postal', 'servic', 'set', 'price', 'packag', 'deliveri', 'cover', 'cost', 'attribut', 'servic', 'postal', 'servic', 'alloc', 'percent', 'total', 'cost', 'busi', 'ship', 'packag', 'even', 'though', 'line', 'busi', 'percent', 'total', 'revenu']\n"
     ]
    }
   ],
   "source": [
    "# Inspect Corpus: Print a few documents\n",
    "for i in range(5):\n",
    "    print(f\"Document {i+1}: {corpus[i]}\")"
   ]
  },
  {
   "cell_type": "code",
   "execution_count": 16,
   "metadata": {},
   "outputs": [],
   "source": [
    "# Join the tokenized words back into strings\n",
    "corpus = [' '.join(doc) for doc in corpus]"
   ]
  },
  {
   "cell_type": "code",
   "execution_count": 17,
   "metadata": {},
   "outputs": [],
   "source": [
    "# Step 1: TF-IDF vectorization\n",
    "# Initialize the vectorizer\n",
    "vectorizer = TfidfVectorizer(stop_words='english', min_df=5, max_df=0.7)"
   ]
  },
  {
   "cell_type": "code",
   "execution_count": 18,
   "metadata": {},
   "outputs": [],
   "source": [
    "# Fit and transform the corpus\n",
    "tfidf_matrix = vectorizer.fit_transform(corpus)"
   ]
  },
  {
   "cell_type": "code",
   "execution_count": 19,
   "metadata": {},
   "outputs": [],
   "source": [
    "# Get the feature names\n",
    "feature_names = vectorizer.get_feature_names_out()"
   ]
  },
  {
   "cell_type": "code",
   "execution_count": 20,
   "metadata": {},
   "outputs": [],
   "source": [
    "# Save the vectorizer using pickle\n",
    "pickle.dump(vectorizer, open('vectorizer.pkl', 'wb'))"
   ]
  },
  {
   "cell_type": "code",
   "execution_count": 21,
   "metadata": {},
   "outputs": [],
   "source": [
    "# Step 2: Topic modeling\n",
    "# Initialize the LDA model\n",
    "lda = LatentDirichletAllocation(n_components=10, random_state=0)"
   ]
  },
  {
   "cell_type": "code",
   "execution_count": 22,
   "metadata": {},
   "outputs": [],
   "source": [
    "# Fit and transform the TF-IDF matrix\n",
    "lda_matrix = lda.fit_transform(tfidf_matrix)"
   ]
  },
  {
   "cell_type": "code",
   "execution_count": 23,
   "metadata": {},
   "outputs": [],
   "source": [
    "# Get the topic distribution for each document\n",
    "topic_dist = lda_matrix.argmax(axis=1)"
   ]
  },
  {
   "cell_type": "code",
   "execution_count": 24,
   "metadata": {},
   "outputs": [],
   "source": [
    "# Get the top words for each topic\n",
    "top_words = {}\n",
    "for i, topic in enumerate(lda.components_):\n",
    "    top_words[i] = [feature_names[i] for i in topic.argsort()[-10:]]"
   ]
  },
  {
   "cell_type": "code",
   "execution_count": 25,
   "metadata": {},
   "outputs": [],
   "source": [
    "# Save the LDA model using pickle\n",
    "pickle.dump(lda, open('lda.pkl', 'wb'))"
   ]
  },
  {
   "cell_type": "code",
   "execution_count": 41,
   "metadata": {},
   "outputs": [],
   "source": [
    "# Step 3: Word embeddings using Word2Vec\n",
    "# Train a Word2Vec model on the corpus\n",
    "model = Word2Vec(corpus, vector_size=100, window=5, min_count=2, workers=4)\n",
    "model.save(\"word2vec.model\")"
   ]
  },
  {
   "cell_type": "code",
   "execution_count": 42,
   "metadata": {},
   "outputs": [],
   "source": [
    "# Create a vocabulary of words and their vectors\n",
    "vocab = model.wv"
   ]
  },
  {
   "cell_type": "code",
   "execution_count": 43,
   "metadata": {},
   "outputs": [
    {
     "name": "stdout",
     "output_type": "stream",
     "text": [
      "Word2Vec vector size: 100\n"
     ]
    }
   ],
   "source": [
    "print(\"Word2Vec vector size:\", model.vector_size)"
   ]
  },
  {
   "cell_type": "code",
   "execution_count": 59,
   "metadata": {},
   "outputs": [],
   "source": [
    "# Define a function to create document vectors\n",
    "def document_vector(doc, vocab):\n",
    "    # Creating an empty array for the document vector\n",
    "    # Assuming Word2Vec vectors have a size of 100\n",
    "    doc_vec = np.zeros(100)  \n",
    "\n",
    "    # Count the number of words in the document\n",
    "    num_words = 0\n",
    "\n",
    "    for word in doc:\n",
    "        if word in vocab:\n",
    "            doc_vec += vocab[word]\n",
    "            num_words += 1\n",
    "\n",
    "    if num_words > 0:\n",
    "        doc_vec /= num_words\n",
    "\n",
    "    return doc_vec\n",
    "\n",
    "# Create document vectors for each document in the corpus\n",
    "X = [document_vector(doc, vocab) for doc in corpus]\n",
    "X = np.array(X)\n",
    "y = df['label']"
   ]
  },
  {
   "cell_type": "code",
   "execution_count": 60,
   "metadata": {},
   "outputs": [],
   "source": [
    "# Divide the dataset into Train and Test\n",
    "X_train, X_test, y_train, y_test = train_test_split(X, y, test_size=0.2, random_state=0)"
   ]
  },
  {
   "cell_type": "code",
   "execution_count": 61,
   "metadata": {},
   "outputs": [
    {
     "name": "stdout",
     "output_type": "stream",
     "text": [
      "X_train shape: (8001, 100)\n",
      "X_test shape: (2001, 100)\n"
     ]
    }
   ],
   "source": [
    "print(\"X_train shape:\", X_train.shape)\n",
    "print(\"X_test shape:\", X_test.shape)"
   ]
  },
  {
   "cell_type": "markdown",
   "metadata": {},
   "source": [
    "# Model building - Passive Aggresive Classifier:"
   ]
  },
  {
   "cell_type": "code",
   "execution_count": 62,
   "metadata": {},
   "outputs": [],
   "source": [
    "classifier = PassiveAggressiveClassifier(max_iter=1000, random_state=0, C=1.0)\n",
    "classifier.fit(X_train, y_train)\n",
    "\n",
    "pred = classifier.predict(X_test)"
   ]
  },
  {
   "cell_type": "code",
   "execution_count": 63,
   "metadata": {},
   "outputs": [],
   "source": [
    "# Save the classifier using pickle\n",
    "pickle.dump(classifier, open('classifier.pkl', 'wb'))"
   ]
  },
  {
   "cell_type": "markdown",
   "metadata": {},
   "source": [
    "# Performance Metrics:"
   ]
  },
  {
   "cell_type": "code",
   "execution_count": 64,
   "metadata": {},
   "outputs": [
    {
     "name": "stdout",
     "output_type": "stream",
     "text": [
      "Accuracy: 73.213\n",
      "Precision: 65.313\n",
      "Recall: 96.738\n",
      "F1 Score: 77.979\n",
      "ROC AUC Score: 0.737\n"
     ]
    }
   ],
   "source": [
    "accuracy = accuracy_score(y_test, pred) * 100\n",
    "precision = precision_score(y_test, pred) * 100\n",
    "recall = recall_score(y_test, pred) * 100\n",
    "f1 = f1_score(y_test, pred) * 100\n",
    "roc_auc = roc_auc_score(y_test, pred)\n",
    "\n",
    "print(\"Accuracy: %0.3f\" % accuracy)\n",
    "print(\"Precision: %0.3f\" % precision)\n",
    "print(\"Recall: %0.3f\" % recall)\n",
    "print(\"F1 Score: %0.3f\" % f1)\n",
    "print(\"ROC AUC Score: %0.3f\" % roc_auc)"
   ]
  },
  {
   "cell_type": "markdown",
   "metadata": {},
   "source": [
    "# Confusion Matrix Plot:"
   ]
  },
  {
   "cell_type": "code",
   "execution_count": 65,
   "metadata": {},
   "outputs": [
    {
     "name": "stdout",
     "output_type": "stream",
     "text": [
      "Confusion Matrix without Normalization\n"
     ]
    },
    {
     "data": {
      "image/png": "[encoded data removed]",
      "text/plain": [
       "<Figure size 432x288 with 2 Axes>"
      ]
     },
     "metadata": {
      "needs_background": "light"
     },
     "output_type": "display_data"
    }
   ],
   "source": [
    "def plot_confusion_matrix(cm, classes,\n",
    "                          normalize=False,\n",
    "                          title='Confusion Matrix',\n",
    "                          cmap=plt.cm.Blues):\n",
    "    plt.imshow(cm, interpolation='nearest', cmap=cmap)\n",
    "    plt.title(title)\n",
    "    plt.colorbar()\n",
    "    tick_marks = np.arange(len(classes))\n",
    "    plt.xticks(tick_marks, classes, rotation=45)\n",
    "    plt.yticks(tick_marks, classes)\n",
    "\n",
    "    if normalize:\n",
    "        cm = cm.astype('float') / cm.sum(axis=1)[:, np.newaxis]\n",
    "        print(\"Normalized Confusion Matrix\")\n",
    "    else:\n",
    "        print('Confusion Matrix without Normalization')\n",
    "\n",
    "    thresh = cm.max() / 2.\n",
    "    for i, j in itertools.product(range(cm.shape[0]), range(cm.shape[1])):\n",
    "        plt.text(j, i, cm[i, j],\n",
    "                 horizontalalignment=\"center\",\n",
    "                 color=\"white\" if cm[i, j] > thresh else \"black\")\n",
    "\n",
    "    plt.tight_layout()\n",
    "    plt.ylabel('True Label')\n",
    "    plt.xlabel('Predicted Label')\n",
    "\n",
    "cm = confusion_matrix(y_test, pred)\n",
    "plot_confusion_matrix(cm, classes=['FAKE', 'REAL'])"
   ]
  },
  {
   "cell_type": "code",
   "execution_count": 66,
   "metadata": {},
   "outputs": [],
   "source": [
    "# Load model and vectorizer to predict the previous datapoint\n",
    "loaded_model = pickle.load(open('classifier.pkl', 'rb'))\n",
    "loaded_vectorizer = pickle.load(open('vectorizer.pkl', 'rb'))\n",
    "\n",
    "ps = PorterStemmer()\n",
    "\n",
    "# Preprocess the previous datapoint\n",
    "review = re.sub('[^a-zA-Z]', ' ', fake['text'][13070])\n",
    "review = review.lower()\n",
    "review = review.split()\n",
    "    \n",
    "review = [ps.stem(word) for word in review if not word in stopwords.words('english')]\n",
    "review = ' '.join(review)"
   ]
  },
  {
   "cell_type": "code",
   "execution_count": 68,
   "metadata": {},
   "outputs": [
    {
     "name": "stdout",
     "output_type": "stream",
     "text": [
      "Number of features in the loaded vectorizer: 11564\n"
     ]
    }
   ],
   "source": [
    "print(\"Number of features in the loaded vectorizer:\", loaded_vectorizer.get_feature_names_out().shape[0])"
   ]
  },
  {
   "cell_type": "code",
   "execution_count": 70,
   "metadata": {},
   "outputs": [],
   "source": [
    "# Transform the preprocessed datapoint using the loaded vectorizer\n",
    "val = document_vector(review, vocab)"
   ]
  },
  {
   "cell_type": "code",
   "execution_count": 71,
   "metadata": {},
   "outputs": [
    {
     "name": "stdout",
     "output_type": "stream",
     "text": [
      "Prediction:  [0]\n"
     ]
    }
   ],
   "source": [
    "# Predict the label of the preprocessed datapoint using the loaded model\n",
    "prediction = loaded_model.predict([val])\n",
    "print(\"Prediction: \", prediction)"
   ]
  }
 ],
 "metadata": {
  "kernelspec": {
   "display_name": "Python 3",
   "language": "python",
   "name": "python3"
  },
  "language_info": {
   "codemirror_mode": {
    "name": "ipython",
    "version": 3
   },
   "file_extension": ".py",
   "mimetype": "text/x-python",
   "name": "python",
   "nbconvert_exporter": "python",
   "pygments_lexer": "ipython3",
   "version": "3.10.2"
  }
 },
 "nbformat": 4,
 "nbformat_minor": 2
}
